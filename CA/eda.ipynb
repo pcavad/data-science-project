{
 "cells": [
  {
   "cell_type": "markdown",
   "metadata": {},
   "source": [
    "# Exploratory Data Analisys #"
   ]
  },
  {
   "cell_type": "code",
   "execution_count": null,
   "metadata": {
    "extensions": {
     "jupyter_dashboards": {
      "activeView": "grid_default",
      "views": {
       "grid_default": {
        "col": null,
        "height": 2,
        "hidden": true,
        "row": null,
        "width": 2
       }
      }
     }
    },
    "tags": []
   },
   "outputs": [],
   "source": [
    "# Python\n",
    "import datetime\n",
    "import ipywidgets as widgets # Used with date strat/end widgets\n",
    "import warnings\n",
    "warnings.filterwarnings('ignore')\n",
    "# import os\n",
    "\n",
    "# thrid part\n",
    "# import matplotlib as mpl\n",
    "# import matplotlib.pyplot as plt\n",
    "# %matplotlib inline\n",
    "# mpl.style.use('seaborn')\n",
    "# plt.rcParams['figure.figsize'] = [15, 5]\n",
    "# import numpy as np\n",
    "# import pandas as pd\n",
    "# pd.set_option('max_columns', 20)\n",
    "# pd.set_option('max_rows', 60)\n",
    "# pd.set_option('max_colwidth', 50)\n",
    "# pd.set_option('precision', 4)\n",
    "# pd.set_option('float_format', '{:,.2f}'.format)\n",
    "\n",
    "# Support helper functions\n",
    "from support import utils \n",
    "from support.orders import Orders"
   ]
  },
  {
   "cell_type": "code",
   "execution_count": null,
   "metadata": {
    "extensions": {
     "jupyter_dashboards": {
      "activeView": "grid_default",
      "views": {
       "grid_default": {
        "col": null,
        "height": 2,
        "hidden": true,
        "row": null,
        "width": 2
       }
      }
     }
    },
    "tags": []
   },
   "outputs": [],
   "source": [
    "# Load data\n",
    "df, df_models, df_service = utils.load_data()\n",
    "\n",
    "if df is not None:\n",
    "    date_start, date_end = utils.show_date()"
   ]
  },
  {
   "cell_type": "code",
   "execution_count": null,
   "metadata": {
    "extensions": {
     "jupyter_dashboards": {
      "activeView": "grid_default",
      "views": {
       "grid_default": {
        "col": null,
        "height": 2,
        "hidden": true,
        "row": null,
        "width": 2
       }
      }
     }
    },
    "tags": []
   },
   "outputs": [],
   "source": [
    "# Plot the orders pivot tables and optionally dumps the reports\n",
    "try:\n",
    "    kwargs = {\n",
    "        'event': {\n",
    "            'date_start': utils.make_datetime(date_start.value)\n",
    "            , 'date_end': utils.make_datetime(date_end.value)\n",
    "            , 'df_filter': None # df['channel'] == 'Ludoma' #(best at order lines level)\n",
    "            , 'period_orders': 'M'\n",
    "            , 'drill_down_orders': ['billing_company'] # ['billing_company', 'order_id']\n",
    "            , 'period_lines': 'Y'\n",
    "            , 'drill_down_lines': ['lineitem_model'] #['lineitem_model','lineitem_sku'] \n",
    "            , 'dump_path': None #'reports'\n",
    "            , 'log_path': None #'reports'\n",
    "        },\n",
    "        'context': {\n",
    "            'df': df\n",
    "            , 'df_models':  df_models\n",
    "            , 'df_service': df_service\n",
    "        }\n",
    "    }\n",
    "    utils.plot_pivot_orders(**kwargs)\n",
    "except Exception as e:\n",
    "    print(e)"
   ]
  },
  {
   "cell_type": "code",
   "execution_count": null,
   "metadata": {
    "tags": []
   },
   "outputs": [],
   "source": [
    "# Show the dashboard and optionally dumps the images\n",
    "try:\n",
    "    kwargs = {\n",
    "        'event': {\n",
    "            'date_start': datetime.datetime(2021,9,1) # utils.make_datetime(date_start.value)\n",
    "            , 'date_end': utils.make_datetime(date_end.value)\n",
    "            , 'period': 'M'\n",
    "            , 'window_roll': 6\n",
    "            , 'figsize': (20,6)\n",
    "            , 'dump_path_figures': None #'reports'\n",
    "        },\n",
    "        'context': {\n",
    "            'df': df\n",
    "        }\n",
    "    }\n",
    "    utils.plot_dashboard(**kwargs)\n",
    "except Exception as e:\n",
    "    print(e)"
   ]
  },
  {
   "cell_type": "code",
   "execution_count": null,
   "metadata": {
    "tags": []
   },
   "outputs": [],
   "source": [
    "# Dumps timeseries\n",
    "try:\n",
    "    kwargs = {\n",
    "        'event': {\n",
    "            'date_start': datetime.datetime(2016,1,1) # utils.make_datetime(date_start.value)\n",
    "            , 'date_end': utils.make_datetime(date_end.value)\n",
    "            , 'total_col': ['total_usd']\n",
    "            , 'period': 'M'\n",
    "            , 'roll': 12\n",
    "            , 'dump_path': 'reports'\n",
    "        },\n",
    "        'context': {\n",
    "            'df': df\n",
    "        },\n",
    "        'kind': 'timeseries'\n",
    "    }\n",
    "    df_c, _ = utils.make_pivot(**kwargs)\n",
    "    display(df_c.head())\n",
    "except Exception as e:\n",
    "    print(e)"
   ]
  },
  {
   "cell_type": "code",
   "execution_count": null,
   "metadata": {},
   "outputs": [],
   "source": []
  }
 ],
 "metadata": {
  "extensions": {
   "jupyter_dashboards": {
    "activeView": "grid_default",
    "version": 1,
    "views": {
     "grid_default": {
      "cellMargin": 2,
      "defaultCellHeight": 60,
      "maxColumns": 12,
      "name": "grid",
      "type": "grid"
     }
    }
   }
  },
  "kernelspec": {
   "display_name": "Python 3",
   "language": "python",
   "name": "python3"
  },
  "language_info": {
   "codemirror_mode": {
    "name": "ipython",
    "version": 3
   },
   "file_extension": ".py",
   "mimetype": "text/x-python",
   "name": "python",
   "nbconvert_exporter": "python",
   "pygments_lexer": "ipython3",
   "version": "3.9.5"
  },
  "toc-autonumbering": false,
  "toc-showcode": false,
  "toc-showmarkdowntxt": false,
  "toc-showtags": true,
  "varInspector": {
   "cols": {
    "lenName": 16,
    "lenType": 16,
    "lenVar": 40
   },
   "kernels_config": {
    "python": {
     "delete_cmd_postfix": "",
     "delete_cmd_prefix": "del ",
     "library": "var_list.py",
     "varRefreshCmd": "print(var_dic_list())"
    },
    "r": {
     "delete_cmd_postfix": ") ",
     "delete_cmd_prefix": "rm(",
     "library": "var_list.r",
     "varRefreshCmd": "cat(var_dic_list()) "
    }
   },
   "position": {
    "height": "481px",
    "left": "1381px",
    "right": "20px",
    "top": "123px",
    "width": "510px"
   },
   "types_to_exclude": [
    "module",
    "function",
    "builtin_function_or_method",
    "instance",
    "_Feature"
   ],
   "window_display": false
  }
 },
 "nbformat": 4,
 "nbformat_minor": 4
}
