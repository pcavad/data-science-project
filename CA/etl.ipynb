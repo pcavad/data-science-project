{
 "cells": [
  {
   "cell_type": "markdown",
   "metadata": {},
   "source": [
    "# Extract Transform Load #"
   ]
  },
  {
   "cell_type": "code",
   "execution_count": null,
   "metadata": {
    "tags": []
   },
   "outputs": [],
   "source": [
    "# Python\n",
    "import os\n",
    "\n",
    "# Third part\n",
    "import pandas as pd\n",
    "pd.set_option('display.max_columns', 15)\n",
    "pd.set_option('display.max_rows', None)\n",
    "pd.options.display.float_format = '{:,.2f}'.format\n",
    "\n",
    "# Support etl library\n",
    "from support import etl, datasetup\n",
    "from support.orders import Orders"
   ]
  },
  {
   "cell_type": "code",
   "execution_count": null,
   "metadata": {},
   "outputs": [],
   "source": [
    "# Run ETL\n",
    "context = {\n",
    "    'data': 'data'\n",
    "    , 'orders_filepath': 'orders'\n",
    "    , 'orders_file': 'Backup_orders_after_etl.csv'\n",
    "    , 'rates_file': 'rates.csv'\n",
    "    , 'to_replace_company_names': datasetup.find_company\n",
    "    , 'value_company_names': datasetup.replace_company\n",
    "    , 'stores': datasetup.stores\n",
    "    , 'channels': datasetup.channels\n",
    "}\n",
    "event = {\n",
    "    're_generate_rates': False\n",
    "}\n",
    "df = etl.e_t_l(context, event)"
   ]
  },
  {
   "cell_type": "code",
   "execution_count": null,
   "metadata": {},
   "outputs": [],
   "source": [
    "#sample order with lines 711711, 692511, 681211, 237622, 119233, 2137, 722511\n",
    "\n",
    "order_id = '#711711-US'\n",
    "\n",
    "my_orders = Orders(df)\n",
    "display(my_orders.get_order_header(order_id).set_index('order_id').T)\n",
    "print()\n",
    "display(my_orders.get_order_lines(order_id))"
   ]
  },
  {
   "cell_type": "code",
   "execution_count": null,
   "metadata": {},
   "outputs": [],
   "source": []
  }
 ],
 "metadata": {
  "kernelspec": {
   "display_name": "Python 3",
   "language": "python",
   "name": "python3"
  },
  "language_info": {
   "codemirror_mode": {
    "name": "ipython",
    "version": 3
   },
   "file_extension": ".py",
   "mimetype": "text/x-python",
   "name": "python",
   "nbconvert_exporter": "python",
   "pygments_lexer": "ipython3",
   "version": "3.9.5"
  },
  "varInspector": {
   "cols": {
    "lenName": 16,
    "lenType": 16,
    "lenVar": 40
   },
   "kernels_config": {
    "python": {
     "delete_cmd_postfix": "",
     "delete_cmd_prefix": "del ",
     "library": "var_list.py",
     "varRefreshCmd": "print(var_dic_list())"
    },
    "r": {
     "delete_cmd_postfix": ") ",
     "delete_cmd_prefix": "rm(",
     "library": "var_list.r",
     "varRefreshCmd": "cat(var_dic_list()) "
    }
   },
   "position": {
    "height": "309px",
    "left": "1564px",
    "right": "20px",
    "top": "152px",
    "width": "336px"
   },
   "types_to_exclude": [
    "module",
    "function",
    "builtin_function_or_method",
    "instance",
    "_Feature"
   ],
   "window_display": false
  }
 },
 "nbformat": 4,
 "nbformat_minor": 4
}
